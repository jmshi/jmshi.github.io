{
 "cells": [
  {
   "cell_type": "code",
   "execution_count": 365,
   "metadata": {
    "collapsed": false,
    "scrolled": true
   },
   "outputs": [
    {
     "data": {
      "text/html": [
       "<script>requirejs.config({paths: { 'plotly': ['https://cdn.plot.ly/plotly-latest.min']},});if(!window.Plotly) {{require(['plotly'],function(plotly) {window.Plotly=plotly;});}}</script>"
      ],
      "text/vnd.plotly.v1+html": [
       "<script>requirejs.config({paths: { 'plotly': ['https://cdn.plot.ly/plotly-latest.min']},});if(!window.Plotly) {{require(['plotly'],function(plotly) {window.Plotly=plotly;});}}</script>"
      ]
     },
     "metadata": {},
     "output_type": "display_data"
    }
   ],
   "source": [
    "import numpy as np\n",
    "import matplotlib\n",
    "import matplotlib.pyplot as plt\n",
    "import pandas as pd\n",
    "from __future__ import division\n",
    "import plotly.offline\n",
    "import plotly.plotly as ply\n",
    "import plotly.figure_factory as ff  # generate table\n",
    "from plotly.graph_objs import *     # generate bar charts etc.\n",
    "\n",
    "from plotly.offline import download_plotlyjs, init_notebook_mode, plot, iplot\n",
    "\n",
    "%matplotlib inline\n",
    "\n",
    "init_notebook_mode(connected=True)"
   ]
  },
  {
   "cell_type": "markdown",
   "metadata": {},
   "source": [
    "# Data from MotherJones\n",
    "* [US Mass Shootings, 1982-2018: Data From Mother Jones’ Investigation](https://www.motherjones.com/politics/2012/12/mass-shootings-mother-jones-full-data/) --The full data set from our in-depth investigation into mass shootings.\n",
    " by Mark Follman, Gavin Aronsen and Deanna Pan"
   ]
  },
  {
   "cell_type": "code",
   "execution_count": 366,
   "metadata": {
    "collapsed": false
   },
   "outputs": [
    {
     "data": {
      "text/html": [
       "<div>\n",
       "<table border=\"1\" class=\"dataframe\">\n",
       "  <thead>\n",
       "    <tr>\n",
       "      <th></th>\n",
       "      <th>Fatalities</th>\n",
       "    </tr>\n",
       "    <tr>\n",
       "      <th></th>\n",
       "      <th>sum</th>\n",
       "    </tr>\n",
       "    <tr>\n",
       "      <th>Venue</th>\n",
       "      <th></th>\n",
       "    </tr>\n",
       "  </thead>\n",
       "  <tbody>\n",
       "    <tr>\n",
       "      <th>Airport</th>\n",
       "      <td>5</td>\n",
       "    </tr>\n",
       "    <tr>\n",
       "      <th>Military</th>\n",
       "      <td>38</td>\n",
       "    </tr>\n",
       "    <tr>\n",
       "      <th>Other</th>\n",
       "      <td>381</td>\n",
       "    </tr>\n",
       "    <tr>\n",
       "      <th>Religious</th>\n",
       "      <td>57</td>\n",
       "    </tr>\n",
       "    <tr>\n",
       "      <th>School</th>\n",
       "      <td>162</td>\n",
       "    </tr>\n",
       "    <tr>\n",
       "      <th>Workplace</th>\n",
       "      <td>173</td>\n",
       "    </tr>\n",
       "  </tbody>\n",
       "</table>\n",
       "</div>"
      ],
      "text/plain": [
       "          Fatalities\n",
       "                 sum\n",
       "Venue               \n",
       "Airport            5\n",
       "Military          38\n",
       "Other            381\n",
       "Religious         57\n",
       "School           162\n",
       "Workplace        173"
      ]
     },
     "execution_count": 366,
     "metadata": {},
     "output_type": "execute_result"
    }
   ],
   "source": [
    "fname='MotherJones_MassShooting_1982-2018.csv'\n",
    "df = pd.read_csv(fname,converters={\"Fatalities\":int})\n",
    "\n",
    "# correct a few indices\n",
    "df.loc[df['Venue'] == '\\nWorkplace', 'Venue'] = 'Workplace'\n",
    "df.loc[df['Venue'] == 'Other\\n', 'Venue'] = 'Other'\n",
    "df.groupby(['Venue'])['Fatalities'].agg({'Fatalities': ['sum']})"
   ]
  },
  {
   "cell_type": "code",
   "execution_count": 367,
   "metadata": {
    "collapsed": false
   },
   "outputs": [
    {
     "data": {
      "text/plain": [
       "Index([u'Airport', u'Military', u'Other', u'Religious', u'School',\n",
       "       u'Workplace'],\n",
       "      dtype='object', name=u'Venue')"
      ]
     },
     "execution_count": 367,
     "metadata": {},
     "output_type": "execute_result"
    }
   ],
   "source": [
    "#df.loc[df['Venue'] == 'Other']['Sources'][2]\n",
    "sum_per_venue.index"
   ]
  },
  {
   "cell_type": "code",
   "execution_count": 368,
   "metadata": {
    "collapsed": false
   },
   "outputs": [],
   "source": [
    "sum_per_venue=df.groupby(['Venue'])['Fatalities'].agg(['sum'])\n",
    "count_per_venue=df.groupby(['Venue']).agg('count')['Case']"
   ]
  },
  {
   "cell_type": "code",
   "execution_count": 369,
   "metadata": {
    "collapsed": false
   },
   "outputs": [
    {
     "data": {
      "application/vnd.plotly.v1+json": {
       "data": [
        {
         "colorscale": [
          [
           0,
           "#00083e"
          ],
          [
           0.5,
           "#ededee"
          ],
          [
           1,
           "#ffffff"
          ]
         ],
         "hoverinfo": "none",
         "opacity": 0.75,
         "showscale": false,
         "type": "heatmap",
         "z": [
          [
           0,
           0,
           0,
           0
          ],
          [
           0.5,
           0.5,
           0.5,
           0.5
          ],
          [
           1,
           1,
           1,
           1
          ],
          [
           0.5,
           0.5,
           0.5,
           0.5
          ],
          [
           1,
           1,
           1,
           1
          ],
          [
           0.5,
           0.5,
           0.5,
           0.5
          ],
          [
           1,
           1,
           1,
           1
          ]
         ]
        }
       ],
       "layout": {
        "annotations": [
         {
          "align": "left",
          "font": {
           "color": "#ffffff"
          },
          "showarrow": false,
          "text": "<b>Venue</b>",
          "x": -0.45,
          "xanchor": "left",
          "xref": "x1",
          "y": 0,
          "yref": "y1"
         },
         {
          "align": "left",
          "font": {
           "color": "#ffffff"
          },
          "showarrow": false,
          "text": "<b>sum</b>",
          "x": 0.55,
          "xanchor": "left",
          "xref": "x1",
          "y": 0,
          "yref": "y1"
         },
         {
          "align": "left",
          "font": {
           "color": "#ffffff"
          },
          "showarrow": false,
          "text": "<b>count</b>",
          "x": 1.55,
          "xanchor": "left",
          "xref": "x1",
          "y": 0,
          "yref": "y1"
         },
         {
          "align": "left",
          "font": {
           "color": "#ffffff"
          },
          "showarrow": false,
          "text": "<b>mean</b>",
          "x": 2.55,
          "xanchor": "left",
          "xref": "x1",
          "y": 0,
          "yref": "y1"
         },
         {
          "align": "left",
          "font": {
           "color": "#000000"
          },
          "showarrow": false,
          "text": "Airport",
          "x": -0.45,
          "xanchor": "left",
          "xref": "x1",
          "y": 1,
          "yref": "y1"
         },
         {
          "align": "left",
          "font": {
           "color": "#000000"
          },
          "showarrow": false,
          "text": "5",
          "x": 0.55,
          "xanchor": "left",
          "xref": "x1",
          "y": 1,
          "yref": "y1"
         },
         {
          "align": "left",
          "font": {
           "color": "#000000"
          },
          "showarrow": false,
          "text": "1",
          "x": 1.55,
          "xanchor": "left",
          "xref": "x1",
          "y": 1,
          "yref": "y1"
         },
         {
          "align": "left",
          "font": {
           "color": "#000000"
          },
          "showarrow": false,
          "text": "5.0",
          "x": 2.55,
          "xanchor": "left",
          "xref": "x1",
          "y": 1,
          "yref": "y1"
         },
         {
          "align": "left",
          "font": {
           "color": "#000000"
          },
          "showarrow": false,
          "text": "Military",
          "x": -0.45,
          "xanchor": "left",
          "xref": "x1",
          "y": 2,
          "yref": "y1"
         },
         {
          "align": "left",
          "font": {
           "color": "#000000"
          },
          "showarrow": false,
          "text": "38",
          "x": 0.55,
          "xanchor": "left",
          "xref": "x1",
          "y": 2,
          "yref": "y1"
         },
         {
          "align": "left",
          "font": {
           "color": "#000000"
          },
          "showarrow": false,
          "text": "5",
          "x": 1.55,
          "xanchor": "left",
          "xref": "x1",
          "y": 2,
          "yref": "y1"
         },
         {
          "align": "left",
          "font": {
           "color": "#000000"
          },
          "showarrow": false,
          "text": "7.6",
          "x": 2.55,
          "xanchor": "left",
          "xref": "x1",
          "y": 2,
          "yref": "y1"
         },
         {
          "align": "left",
          "font": {
           "color": "#000000"
          },
          "showarrow": false,
          "text": "Other",
          "x": -0.45,
          "xanchor": "left",
          "xref": "x1",
          "y": 3,
          "yref": "y1"
         },
         {
          "align": "left",
          "font": {
           "color": "#000000"
          },
          "showarrow": false,
          "text": "381",
          "x": 0.55,
          "xanchor": "left",
          "xref": "x1",
          "y": 3,
          "yref": "y1"
         },
         {
          "align": "left",
          "font": {
           "color": "#000000"
          },
          "showarrow": false,
          "text": "42",
          "x": 1.55,
          "xanchor": "left",
          "xref": "x1",
          "y": 3,
          "yref": "y1"
         },
         {
          "align": "left",
          "font": {
           "color": "#000000"
          },
          "showarrow": false,
          "text": "9.1",
          "x": 2.55,
          "xanchor": "left",
          "xref": "x1",
          "y": 3,
          "yref": "y1"
         },
         {
          "align": "left",
          "font": {
           "color": "#000000"
          },
          "showarrow": false,
          "text": "Religious",
          "x": -0.45,
          "xanchor": "left",
          "xref": "x1",
          "y": 4,
          "yref": "y1"
         },
         {
          "align": "left",
          "font": {
           "color": "#000000"
          },
          "showarrow": false,
          "text": "57",
          "x": 0.55,
          "xanchor": "left",
          "xref": "x1",
          "y": 4,
          "yref": "y1"
         },
         {
          "align": "left",
          "font": {
           "color": "#000000"
          },
          "showarrow": false,
          "text": "5",
          "x": 1.55,
          "xanchor": "left",
          "xref": "x1",
          "y": 4,
          "yref": "y1"
         },
         {
          "align": "left",
          "font": {
           "color": "#000000"
          },
          "showarrow": false,
          "text": "11.4",
          "x": 2.55,
          "xanchor": "left",
          "xref": "x1",
          "y": 4,
          "yref": "y1"
         },
         {
          "align": "left",
          "font": {
           "color": "#000000"
          },
          "showarrow": false,
          "text": "School",
          "x": -0.45,
          "xanchor": "left",
          "xref": "x1",
          "y": 5,
          "yref": "y1"
         },
         {
          "align": "left",
          "font": {
           "color": "#000000"
          },
          "showarrow": false,
          "text": "162",
          "x": 0.55,
          "xanchor": "left",
          "xref": "x1",
          "y": 5,
          "yref": "y1"
         },
         {
          "align": "left",
          "font": {
           "color": "#000000"
          },
          "showarrow": false,
          "text": "16",
          "x": 1.55,
          "xanchor": "left",
          "xref": "x1",
          "y": 5,
          "yref": "y1"
         },
         {
          "align": "left",
          "font": {
           "color": "#000000"
          },
          "showarrow": false,
          "text": "10.1",
          "x": 2.55,
          "xanchor": "left",
          "xref": "x1",
          "y": 5,
          "yref": "y1"
         },
         {
          "align": "left",
          "font": {
           "color": "#000000"
          },
          "showarrow": false,
          "text": "Workplace",
          "x": -0.45,
          "xanchor": "left",
          "xref": "x1",
          "y": 6,
          "yref": "y1"
         },
         {
          "align": "left",
          "font": {
           "color": "#000000"
          },
          "showarrow": false,
          "text": "173",
          "x": 0.55,
          "xanchor": "left",
          "xref": "x1",
          "y": 6,
          "yref": "y1"
         },
         {
          "align": "left",
          "font": {
           "color": "#000000"
          },
          "showarrow": false,
          "text": "28",
          "x": 1.55,
          "xanchor": "left",
          "xref": "x1",
          "y": 6,
          "yref": "y1"
         },
         {
          "align": "left",
          "font": {
           "color": "#000000"
          },
          "showarrow": false,
          "text": "6.2",
          "x": 2.55,
          "xanchor": "left",
          "xref": "x1",
          "y": 6,
          "yref": "y1"
         }
        ],
        "height": 260,
        "margin": {
         "b": 0,
         "l": 0,
         "r": 0,
         "t": 0
        },
        "width": 700,
        "xaxis": {
         "dtick": 1,
         "gridwidth": 2,
         "showticklabels": false,
         "tick0": -0.5,
         "ticks": "",
         "zeroline": false
        },
        "yaxis": {
         "autorange": "reversed",
         "dtick": 1,
         "gridwidth": 2,
         "showticklabels": false,
         "tick0": 0.5,
         "ticks": "",
         "zeroline": false
        }
       }
      },
      "text/html": [
       "<div id=\"0827c383-e0f2-4810-975a-d2cd99a18eca\" style=\"height: 260px; width: 700px;\" class=\"plotly-graph-div\"></div><script type=\"text/javascript\">require([\"plotly\"], function(Plotly) { window.PLOTLYENV=window.PLOTLYENV || {};window.PLOTLYENV.BASE_URL=\"https://plot.ly\";Plotly.newPlot(\"0827c383-e0f2-4810-975a-d2cd99a18eca\", [{\"opacity\": 0.75, \"colorscale\": [[0, \"#00083e\"], [0.5, \"#ededee\"], [1, \"#ffffff\"]], \"showscale\": false, \"hoverinfo\": \"none\", \"z\": [[0, 0, 0, 0], [0.5, 0.5, 0.5, 0.5], [1, 1, 1, 1], [0.5, 0.5, 0.5, 0.5], [1, 1, 1, 1], [0.5, 0.5, 0.5, 0.5], [1, 1, 1, 1]], \"type\": \"heatmap\"}], {\"yaxis\": {\"showticklabels\": false, \"tick0\": 0.5, \"ticks\": \"\", \"gridwidth\": 2, \"dtick\": 1, \"zeroline\": false, \"autorange\": \"reversed\"}, \"height\": 260, \"width\": 700, \"xaxis\": {\"showticklabels\": false, \"tick0\": -0.5, \"ticks\": \"\", \"gridwidth\": 2, \"dtick\": 1, \"zeroline\": false}, \"margin\": {\"r\": 0, \"b\": 0, \"l\": 0, \"t\": 0}, \"annotations\": [{\"xref\": \"x1\", \"xanchor\": \"left\", \"yref\": \"y1\", \"text\": \"<b>Venue</b>\", \"align\": \"left\", \"y\": 0, \"x\": -0.45, \"font\": {\"color\": \"#ffffff\"}, \"showarrow\": false}, {\"xref\": \"x1\", \"xanchor\": \"left\", \"yref\": \"y1\", \"text\": \"<b>sum</b>\", \"align\": \"left\", \"y\": 0, \"x\": 0.55, \"font\": {\"color\": \"#ffffff\"}, \"showarrow\": false}, {\"xref\": \"x1\", \"xanchor\": \"left\", \"yref\": \"y1\", \"text\": \"<b>count</b>\", \"align\": \"left\", \"y\": 0, \"x\": 1.55, \"font\": {\"color\": \"#ffffff\"}, \"showarrow\": false}, {\"xref\": \"x1\", \"xanchor\": \"left\", \"yref\": \"y1\", \"text\": \"<b>mean</b>\", \"align\": \"left\", \"y\": 0, \"x\": 2.55, \"font\": {\"color\": \"#ffffff\"}, \"showarrow\": false}, {\"xref\": \"x1\", \"xanchor\": \"left\", \"yref\": \"y1\", \"text\": \"Airport\", \"align\": \"left\", \"y\": 1, \"x\": -0.45, \"font\": {\"color\": \"#000000\"}, \"showarrow\": false}, {\"xref\": \"x1\", \"xanchor\": \"left\", \"yref\": \"y1\", \"text\": \"5\", \"align\": \"left\", \"y\": 1, \"x\": 0.55, \"font\": {\"color\": \"#000000\"}, \"showarrow\": false}, {\"xref\": \"x1\", \"xanchor\": \"left\", \"yref\": \"y1\", \"text\": \"1\", \"align\": \"left\", \"y\": 1, \"x\": 1.55, \"font\": {\"color\": \"#000000\"}, \"showarrow\": false}, {\"xref\": \"x1\", \"xanchor\": \"left\", \"yref\": \"y1\", \"text\": \"5.0\", \"align\": \"left\", \"y\": 1, \"x\": 2.55, \"font\": {\"color\": \"#000000\"}, \"showarrow\": false}, {\"xref\": \"x1\", \"xanchor\": \"left\", \"yref\": \"y1\", \"text\": \"Military\", \"align\": \"left\", \"y\": 2, \"x\": -0.45, \"font\": {\"color\": \"#000000\"}, \"showarrow\": false}, {\"xref\": \"x1\", \"xanchor\": \"left\", \"yref\": \"y1\", \"text\": \"38\", \"align\": \"left\", \"y\": 2, \"x\": 0.55, \"font\": {\"color\": \"#000000\"}, \"showarrow\": false}, {\"xref\": \"x1\", \"xanchor\": \"left\", \"yref\": \"y1\", \"text\": \"5\", \"align\": \"left\", \"y\": 2, \"x\": 1.55, \"font\": {\"color\": \"#000000\"}, \"showarrow\": false}, {\"xref\": \"x1\", \"xanchor\": \"left\", \"yref\": \"y1\", \"text\": \"7.6\", \"align\": \"left\", \"y\": 2, \"x\": 2.55, \"font\": {\"color\": \"#000000\"}, \"showarrow\": false}, {\"xref\": \"x1\", \"xanchor\": \"left\", \"yref\": \"y1\", \"text\": \"Other\", \"align\": \"left\", \"y\": 3, \"x\": -0.45, \"font\": {\"color\": \"#000000\"}, \"showarrow\": false}, {\"xref\": \"x1\", \"xanchor\": \"left\", \"yref\": \"y1\", \"text\": \"381\", \"align\": \"left\", \"y\": 3, \"x\": 0.55, \"font\": {\"color\": \"#000000\"}, \"showarrow\": false}, {\"xref\": \"x1\", \"xanchor\": \"left\", \"yref\": \"y1\", \"text\": \"42\", \"align\": \"left\", \"y\": 3, \"x\": 1.55, \"font\": {\"color\": \"#000000\"}, \"showarrow\": false}, {\"xref\": \"x1\", \"xanchor\": \"left\", \"yref\": \"y1\", \"text\": \"9.1\", \"align\": \"left\", \"y\": 3, \"x\": 2.55, \"font\": {\"color\": \"#000000\"}, \"showarrow\": false}, {\"xref\": \"x1\", \"xanchor\": \"left\", \"yref\": \"y1\", \"text\": \"Religious\", \"align\": \"left\", \"y\": 4, \"x\": -0.45, \"font\": {\"color\": \"#000000\"}, \"showarrow\": false}, {\"xref\": \"x1\", \"xanchor\": \"left\", \"yref\": \"y1\", \"text\": \"57\", \"align\": \"left\", \"y\": 4, \"x\": 0.55, \"font\": {\"color\": \"#000000\"}, \"showarrow\": false}, {\"xref\": \"x1\", \"xanchor\": \"left\", \"yref\": \"y1\", \"text\": \"5\", \"align\": \"left\", \"y\": 4, \"x\": 1.55, \"font\": {\"color\": \"#000000\"}, \"showarrow\": false}, {\"xref\": \"x1\", \"xanchor\": \"left\", \"yref\": \"y1\", \"text\": \"11.4\", \"align\": \"left\", \"y\": 4, \"x\": 2.55, \"font\": {\"color\": \"#000000\"}, \"showarrow\": false}, {\"xref\": \"x1\", \"xanchor\": \"left\", \"yref\": \"y1\", \"text\": \"School\", \"align\": \"left\", \"y\": 5, \"x\": -0.45, \"font\": {\"color\": \"#000000\"}, \"showarrow\": false}, {\"xref\": \"x1\", \"xanchor\": \"left\", \"yref\": \"y1\", \"text\": \"162\", \"align\": \"left\", \"y\": 5, \"x\": 0.55, \"font\": {\"color\": \"#000000\"}, \"showarrow\": false}, {\"xref\": \"x1\", \"xanchor\": \"left\", \"yref\": \"y1\", \"text\": \"16\", \"align\": \"left\", \"y\": 5, \"x\": 1.55, \"font\": {\"color\": \"#000000\"}, \"showarrow\": false}, {\"xref\": \"x1\", \"xanchor\": \"left\", \"yref\": \"y1\", \"text\": \"10.1\", \"align\": \"left\", \"y\": 5, \"x\": 2.55, \"font\": {\"color\": \"#000000\"}, \"showarrow\": false}, {\"xref\": \"x1\", \"xanchor\": \"left\", \"yref\": \"y1\", \"text\": \"Workplace\", \"align\": \"left\", \"y\": 6, \"x\": -0.45, \"font\": {\"color\": \"#000000\"}, \"showarrow\": false}, {\"xref\": \"x1\", \"xanchor\": \"left\", \"yref\": \"y1\", \"text\": \"173\", \"align\": \"left\", \"y\": 6, \"x\": 0.55, \"font\": {\"color\": \"#000000\"}, \"showarrow\": false}, {\"xref\": \"x1\", \"xanchor\": \"left\", \"yref\": \"y1\", \"text\": \"28\", \"align\": \"left\", \"y\": 6, \"x\": 1.55, \"font\": {\"color\": \"#000000\"}, \"showarrow\": false}, {\"xref\": \"x1\", \"xanchor\": \"left\", \"yref\": \"y1\", \"text\": \"6.2\", \"align\": \"left\", \"y\": 6, \"x\": 2.55, \"font\": {\"color\": \"#000000\"}, \"showarrow\": false}]}, {\"linkText\": \"Export to plot.ly\", \"showLink\": true})});</script>"
      ],
      "text/vnd.plotly.v1+html": [
       "<div id=\"0827c383-e0f2-4810-975a-d2cd99a18eca\" style=\"height: 260px; width: 700px;\" class=\"plotly-graph-div\"></div><script type=\"text/javascript\">require([\"plotly\"], function(Plotly) { window.PLOTLYENV=window.PLOTLYENV || {};window.PLOTLYENV.BASE_URL=\"https://plot.ly\";Plotly.newPlot(\"0827c383-e0f2-4810-975a-d2cd99a18eca\", [{\"opacity\": 0.75, \"colorscale\": [[0, \"#00083e\"], [0.5, \"#ededee\"], [1, \"#ffffff\"]], \"showscale\": false, \"hoverinfo\": \"none\", \"z\": [[0, 0, 0, 0], [0.5, 0.5, 0.5, 0.5], [1, 1, 1, 1], [0.5, 0.5, 0.5, 0.5], [1, 1, 1, 1], [0.5, 0.5, 0.5, 0.5], [1, 1, 1, 1]], \"type\": \"heatmap\"}], {\"yaxis\": {\"showticklabels\": false, \"tick0\": 0.5, \"ticks\": \"\", \"gridwidth\": 2, \"dtick\": 1, \"zeroline\": false, \"autorange\": \"reversed\"}, \"height\": 260, \"width\": 700, \"xaxis\": {\"showticklabels\": false, \"tick0\": -0.5, \"ticks\": \"\", \"gridwidth\": 2, \"dtick\": 1, \"zeroline\": false}, \"margin\": {\"r\": 0, \"b\": 0, \"l\": 0, \"t\": 0}, \"annotations\": [{\"xref\": \"x1\", \"xanchor\": \"left\", \"yref\": \"y1\", \"text\": \"<b>Venue</b>\", \"align\": \"left\", \"y\": 0, \"x\": -0.45, \"font\": {\"color\": \"#ffffff\"}, \"showarrow\": false}, {\"xref\": \"x1\", \"xanchor\": \"left\", \"yref\": \"y1\", \"text\": \"<b>sum</b>\", \"align\": \"left\", \"y\": 0, \"x\": 0.55, \"font\": {\"color\": \"#ffffff\"}, \"showarrow\": false}, {\"xref\": \"x1\", \"xanchor\": \"left\", \"yref\": \"y1\", \"text\": \"<b>count</b>\", \"align\": \"left\", \"y\": 0, \"x\": 1.55, \"font\": {\"color\": \"#ffffff\"}, \"showarrow\": false}, {\"xref\": \"x1\", \"xanchor\": \"left\", \"yref\": \"y1\", \"text\": \"<b>mean</b>\", \"align\": \"left\", \"y\": 0, \"x\": 2.55, \"font\": {\"color\": \"#ffffff\"}, \"showarrow\": false}, {\"xref\": \"x1\", \"xanchor\": \"left\", \"yref\": \"y1\", \"text\": \"Airport\", \"align\": \"left\", \"y\": 1, \"x\": -0.45, \"font\": {\"color\": \"#000000\"}, \"showarrow\": false}, {\"xref\": \"x1\", \"xanchor\": \"left\", \"yref\": \"y1\", \"text\": \"5\", \"align\": \"left\", \"y\": 1, \"x\": 0.55, \"font\": {\"color\": \"#000000\"}, \"showarrow\": false}, {\"xref\": \"x1\", \"xanchor\": \"left\", \"yref\": \"y1\", \"text\": \"1\", \"align\": \"left\", \"y\": 1, \"x\": 1.55, \"font\": {\"color\": \"#000000\"}, \"showarrow\": false}, {\"xref\": \"x1\", \"xanchor\": \"left\", \"yref\": \"y1\", \"text\": \"5.0\", \"align\": \"left\", \"y\": 1, \"x\": 2.55, \"font\": {\"color\": \"#000000\"}, \"showarrow\": false}, {\"xref\": \"x1\", \"xanchor\": \"left\", \"yref\": \"y1\", \"text\": \"Military\", \"align\": \"left\", \"y\": 2, \"x\": -0.45, \"font\": {\"color\": \"#000000\"}, \"showarrow\": false}, {\"xref\": \"x1\", \"xanchor\": \"left\", \"yref\": \"y1\", \"text\": \"38\", \"align\": \"left\", \"y\": 2, \"x\": 0.55, \"font\": {\"color\": \"#000000\"}, \"showarrow\": false}, {\"xref\": \"x1\", \"xanchor\": \"left\", \"yref\": \"y1\", \"text\": \"5\", \"align\": \"left\", \"y\": 2, \"x\": 1.55, \"font\": {\"color\": \"#000000\"}, \"showarrow\": false}, {\"xref\": \"x1\", \"xanchor\": \"left\", \"yref\": \"y1\", \"text\": \"7.6\", \"align\": \"left\", \"y\": 2, \"x\": 2.55, \"font\": {\"color\": \"#000000\"}, \"showarrow\": false}, {\"xref\": \"x1\", \"xanchor\": \"left\", \"yref\": \"y1\", \"text\": \"Other\", \"align\": \"left\", \"y\": 3, \"x\": -0.45, \"font\": {\"color\": \"#000000\"}, \"showarrow\": false}, {\"xref\": \"x1\", \"xanchor\": \"left\", \"yref\": \"y1\", \"text\": \"381\", \"align\": \"left\", \"y\": 3, \"x\": 0.55, \"font\": {\"color\": \"#000000\"}, \"showarrow\": false}, {\"xref\": \"x1\", \"xanchor\": \"left\", \"yref\": \"y1\", \"text\": \"42\", \"align\": \"left\", \"y\": 3, \"x\": 1.55, \"font\": {\"color\": \"#000000\"}, \"showarrow\": false}, {\"xref\": \"x1\", \"xanchor\": \"left\", \"yref\": \"y1\", \"text\": \"9.1\", \"align\": \"left\", \"y\": 3, \"x\": 2.55, \"font\": {\"color\": \"#000000\"}, \"showarrow\": false}, {\"xref\": \"x1\", \"xanchor\": \"left\", \"yref\": \"y1\", \"text\": \"Religious\", \"align\": \"left\", \"y\": 4, \"x\": -0.45, \"font\": {\"color\": \"#000000\"}, \"showarrow\": false}, {\"xref\": \"x1\", \"xanchor\": \"left\", \"yref\": \"y1\", \"text\": \"57\", \"align\": \"left\", \"y\": 4, \"x\": 0.55, \"font\": {\"color\": \"#000000\"}, \"showarrow\": false}, {\"xref\": \"x1\", \"xanchor\": \"left\", \"yref\": \"y1\", \"text\": \"5\", \"align\": \"left\", \"y\": 4, \"x\": 1.55, \"font\": {\"color\": \"#000000\"}, \"showarrow\": false}, {\"xref\": \"x1\", \"xanchor\": \"left\", \"yref\": \"y1\", \"text\": \"11.4\", \"align\": \"left\", \"y\": 4, \"x\": 2.55, \"font\": {\"color\": \"#000000\"}, \"showarrow\": false}, {\"xref\": \"x1\", \"xanchor\": \"left\", \"yref\": \"y1\", \"text\": \"School\", \"align\": \"left\", \"y\": 5, \"x\": -0.45, \"font\": {\"color\": \"#000000\"}, \"showarrow\": false}, {\"xref\": \"x1\", \"xanchor\": \"left\", \"yref\": \"y1\", \"text\": \"162\", \"align\": \"left\", \"y\": 5, \"x\": 0.55, \"font\": {\"color\": \"#000000\"}, \"showarrow\": false}, {\"xref\": \"x1\", \"xanchor\": \"left\", \"yref\": \"y1\", \"text\": \"16\", \"align\": \"left\", \"y\": 5, \"x\": 1.55, \"font\": {\"color\": \"#000000\"}, \"showarrow\": false}, {\"xref\": \"x1\", \"xanchor\": \"left\", \"yref\": \"y1\", \"text\": \"10.1\", \"align\": \"left\", \"y\": 5, \"x\": 2.55, \"font\": {\"color\": \"#000000\"}, \"showarrow\": false}, {\"xref\": \"x1\", \"xanchor\": \"left\", \"yref\": \"y1\", \"text\": \"Workplace\", \"align\": \"left\", \"y\": 6, \"x\": -0.45, \"font\": {\"color\": \"#000000\"}, \"showarrow\": false}, {\"xref\": \"x1\", \"xanchor\": \"left\", \"yref\": \"y1\", \"text\": \"173\", \"align\": \"left\", \"y\": 6, \"x\": 0.55, \"font\": {\"color\": \"#000000\"}, \"showarrow\": false}, {\"xref\": \"x1\", \"xanchor\": \"left\", \"yref\": \"y1\", \"text\": \"28\", \"align\": \"left\", \"y\": 6, \"x\": 1.55, \"font\": {\"color\": \"#000000\"}, \"showarrow\": false}, {\"xref\": \"x1\", \"xanchor\": \"left\", \"yref\": \"y1\", \"text\": \"6.2\", \"align\": \"left\", \"y\": 6, \"x\": 2.55, \"font\": {\"color\": \"#000000\"}, \"showarrow\": false}]}, {\"linkText\": \"Export to plot.ly\", \"showLink\": true})});</script>"
      ]
     },
     "metadata": {},
     "output_type": "display_data"
    }
   ],
   "source": [
    "sum_per_venue['count'] = count_per_venue\n",
    "sum_per_venue['mean'] = np.around(sum_per_venue['sum']/count_per_venue,decimals=1)\n",
    "sum_per_venue['Venue'] = sum_per_venue.index\n",
    "sum_per_venue = sum_per_venue.reindex(columns=['Venue','sum','count','mean'])\n",
    "table = ff.create_table(sum_per_venue,height_constant=30)\n",
    "table.layout.width=700\n",
    "#ply.iplot(table, filename='table1')\n",
    "iplot(table, filename='table1')"
   ]
  },
  {
   "cell_type": "code",
   "execution_count": 371,
   "metadata": {
    "collapsed": false
   },
   "outputs": [
    {
     "data": {
      "application/vnd.plotly.v1+json": {
       "data": [
        {
         "marker": {
          "color": [
           "rgb(145,191,219)",
           "rgb(145,191,219)",
           "rgb(145,191,219)",
           "rgba(222,45,38,0.8)",
           "rgb(145,191,219)"
          ]
         },
         "type": "bar",
         "width": [
          0.5,
          0.5,
          0.5,
          0.5,
          0.5
         ],
         "x": [
          "Airport",
          "Military",
          "Religious",
          "School",
          "Workplace"
         ],
         "y": [
          5,
          7.6,
          11.4,
          10.1,
          6.2
         ]
        }
       ],
       "layout": {
        "autosize": false,
        "height": 500,
        "title": "Mean # of Fatalities per Incident",
        "width": 700
       }
      },
      "text/html": [
       "<div id=\"3c270e47-0269-4995-8450-d1068c0bf64f\" style=\"height: 500px; width: 700px;\" class=\"plotly-graph-div\"></div><script type=\"text/javascript\">require([\"plotly\"], function(Plotly) { window.PLOTLYENV=window.PLOTLYENV || {};window.PLOTLYENV.BASE_URL=\"https://plot.ly\";Plotly.newPlot(\"3c270e47-0269-4995-8450-d1068c0bf64f\", [{\"y\": [5.0, 7.6, 11.4, 10.1, 6.2], \"width\": [0.5, 0.5, 0.5, 0.5, 0.5], \"type\": \"bar\", \"marker\": {\"color\": [\"rgb(145,191,219)\", \"rgb(145,191,219)\", \"rgb(145,191,219)\", \"rgba(222,45,38,0.8)\", \"rgb(145,191,219)\"]}, \"x\": [\"Airport\", \"Military\", \"Religious\", \"School\", \"Workplace\"]}], {\"width\": 700, \"autosize\": false, \"height\": 500, \"title\": \"Mean # of Fatalities per Incident\"}, {\"linkText\": \"Export to plot.ly\", \"showLink\": true})});</script>"
      ],
      "text/vnd.plotly.v1+html": [
       "<div id=\"3c270e47-0269-4995-8450-d1068c0bf64f\" style=\"height: 500px; width: 700px;\" class=\"plotly-graph-div\"></div><script type=\"text/javascript\">require([\"plotly\"], function(Plotly) { window.PLOTLYENV=window.PLOTLYENV || {};window.PLOTLYENV.BASE_URL=\"https://plot.ly\";Plotly.newPlot(\"3c270e47-0269-4995-8450-d1068c0bf64f\", [{\"y\": [5.0, 7.6, 11.4, 10.1, 6.2], \"width\": [0.5, 0.5, 0.5, 0.5, 0.5], \"type\": \"bar\", \"marker\": {\"color\": [\"rgb(145,191,219)\", \"rgb(145,191,219)\", \"rgb(145,191,219)\", \"rgba(222,45,38,0.8)\", \"rgb(145,191,219)\"]}, \"x\": [\"Airport\", \"Military\", \"Religious\", \"School\", \"Workplace\"]}], {\"width\": 700, \"autosize\": false, \"height\": 500, \"title\": \"Mean # of Fatalities per Incident\"}, {\"linkText\": \"Export to plot.ly\", \"showLink\": true})});</script>"
      ]
     },
     "metadata": {},
     "output_type": "display_data"
    }
   ],
   "source": [
    "#sum_per_venue.iloc[:,2].plot(kind='bar')\n",
    "df_mj = sum_per_venue.drop(['Other'])\n",
    "\n",
    "ctable = ['rgb(145,191,219)']*5\n",
    "ctable[3] = 'rgba(222,45,38,0.8)'\n",
    "width = list(np.full(5,0.5))\n",
    "\n",
    "data = [Bar(x=df_mj['Venue'],\n",
    "            y=df_mj['mean'],marker=dict(color=ctable),width=width)]\n",
    "\n",
    "layout = Layout(autosize=False,width=700,height=500, title='Mean # of Fatalities per Incident')\n",
    "         #margin=Margin(l=20,r=20,b=20,t=20,pad=4),\n",
    "         #paper_bgcolor='#7f7f7f',\n",
    "         #plot_bgcolor='#c7c7c7')\n",
    "fig = Figure(data=data,layout=layout)\n",
    "#ply.iplot(fig, filename='mean_fatalities_per_incidents')\n",
    "iplot(fig, filename='mean_fatalities_per_incidents')"
   ]
  },
  {
   "cell_type": "code",
   "execution_count": 372,
   "metadata": {
    "collapsed": false
   },
   "outputs": [
    {
     "data": {
      "application/vnd.plotly.v1+json": {
       "data": [
        {
         "marker": {
          "color": [
           "rgb(190,191,219)",
           "rgb(190,191,219)",
           "rgb(190,191,219)",
           "rgba(250,45,38,0.8)",
           "rgb(190,191,219)"
          ]
         },
         "name": "Count",
         "type": "bar",
         "width": [
          0.4,
          0.4,
          0.4,
          0.4,
          0.4
         ],
         "x": [
          "Airport",
          "Military",
          "Religious",
          "School",
          "Workplace"
         ],
         "y": [
          1,
          5,
          5,
          16,
          28
         ]
        },
        {
         "marker": {
          "color": [
           "rgb(145,191,219)",
           "rgb(145,191,219)",
           "rgb(145,191,219)",
           "rgba(210,45,38,0.8)",
           "rgb(145,191,219)"
          ]
         },
         "name": "Sum",
         "type": "bar",
         "width": [
          0.4,
          0.4,
          0.4,
          0.4,
          0.4
         ],
         "x": [
          "Airport",
          "Military",
          "Religious",
          "School",
          "Workplace"
         ],
         "y": [
          5,
          38,
          57,
          162,
          173
         ]
        }
       ],
       "layout": {
        "autosize": false,
        "height": 500,
        "title": "# of Mass Shootings and Total # of Fatalities",
        "width": 700
       }
      },
      "text/html": [
       "<div id=\"f30db5fe-3d2c-4efe-84ca-4b18dfd49350\" style=\"height: 500px; width: 700px;\" class=\"plotly-graph-div\"></div><script type=\"text/javascript\">require([\"plotly\"], function(Plotly) { window.PLOTLYENV=window.PLOTLYENV || {};window.PLOTLYENV.BASE_URL=\"https://plot.ly\";Plotly.newPlot(\"f30db5fe-3d2c-4efe-84ca-4b18dfd49350\", [{\"name\": \"Count\", \"width\": [0.4, 0.4, 0.4, 0.4, 0.4], \"y\": [1, 5, 5, 16, 28], \"x\": [\"Airport\", \"Military\", \"Religious\", \"School\", \"Workplace\"], \"type\": \"bar\", \"marker\": {\"color\": [\"rgb(190,191,219)\", \"rgb(190,191,219)\", \"rgb(190,191,219)\", \"rgba(250,45,38,0.8)\", \"rgb(190,191,219)\"]}}, {\"name\": \"Sum\", \"width\": [0.4, 0.4, 0.4, 0.4, 0.4], \"y\": [5, 38, 57, 162, 173], \"x\": [\"Airport\", \"Military\", \"Religious\", \"School\", \"Workplace\"], \"type\": \"bar\", \"marker\": {\"color\": [\"rgb(145,191,219)\", \"rgb(145,191,219)\", \"rgb(145,191,219)\", \"rgba(210,45,38,0.8)\", \"rgb(145,191,219)\"]}}], {\"width\": 700, \"autosize\": false, \"height\": 500, \"title\": \"# of Mass Shootings and Total # of Fatalities\"}, {\"linkText\": \"Export to plot.ly\", \"showLink\": true})});</script>"
      ],
      "text/vnd.plotly.v1+html": [
       "<div id=\"f30db5fe-3d2c-4efe-84ca-4b18dfd49350\" style=\"height: 500px; width: 700px;\" class=\"plotly-graph-div\"></div><script type=\"text/javascript\">require([\"plotly\"], function(Plotly) { window.PLOTLYENV=window.PLOTLYENV || {};window.PLOTLYENV.BASE_URL=\"https://plot.ly\";Plotly.newPlot(\"f30db5fe-3d2c-4efe-84ca-4b18dfd49350\", [{\"name\": \"Count\", \"width\": [0.4, 0.4, 0.4, 0.4, 0.4], \"y\": [1, 5, 5, 16, 28], \"x\": [\"Airport\", \"Military\", \"Religious\", \"School\", \"Workplace\"], \"type\": \"bar\", \"marker\": {\"color\": [\"rgb(190,191,219)\", \"rgb(190,191,219)\", \"rgb(190,191,219)\", \"rgba(250,45,38,0.8)\", \"rgb(190,191,219)\"]}}, {\"name\": \"Sum\", \"width\": [0.4, 0.4, 0.4, 0.4, 0.4], \"y\": [5, 38, 57, 162, 173], \"x\": [\"Airport\", \"Military\", \"Religious\", \"School\", \"Workplace\"], \"type\": \"bar\", \"marker\": {\"color\": [\"rgb(145,191,219)\", \"rgb(145,191,219)\", \"rgb(145,191,219)\", \"rgba(210,45,38,0.8)\", \"rgb(145,191,219)\"]}}], {\"width\": 700, \"autosize\": false, \"height\": 500, \"title\": \"# of Mass Shootings and Total # of Fatalities\"}, {\"linkText\": \"Export to plot.ly\", \"showLink\": true})});</script>"
      ]
     },
     "metadata": {},
     "output_type": "display_data"
    }
   ],
   "source": [
    "#sum_per_venue.plot.barh(y=['sum','count'],stacked='True',colormap='jet')\n",
    "ctable1 = ['rgb(145,191,219)']*5\n",
    "ctable1[3] = 'rgba(210,45,38,0.8)'\n",
    "ctable2 = ['rgb(190,191,219)']*5\n",
    "ctable2[3] = 'rgba(250,45,38,0.8)'\n",
    "width = list(np.full(5,0.4))\n",
    "\n",
    "data1 = Bar(x=df_mj['Venue'],\n",
    "            y=df_mj['sum'],marker=dict(color=ctable1),width=width,name='Sum')\n",
    "data2 = Bar(x=df_mj['Venue'],\n",
    "            y=df_mj['count'],marker=dict(color=ctable2),width=width,name='Count')\n",
    "\n",
    "layout = Layout(autosize=False,width=700,height=500, title='# of Mass Shootings and Total # of Fatalities')\n",
    "         #margin=Margin(l=20,r=20,b=20,t=20,pad=4),\n",
    "         #paper_bgcolor='#7f7f7f',\n",
    "         #plot_bgcolor='#c7c7c7')\n",
    "data=[data2,data1]\n",
    "fig = Figure(data=data,layout=layout)\n",
    "#ply.iplot(fig, filename='count_sum_fatalities_by_venue')\n",
    "iplot(fig, filename='count_sum_fatalities_by_venue')"
   ]
  },
  {
   "cell_type": "markdown",
   "metadata": {
    "collapsed": false
   },
   "source": [
    "# CDC data\n",
    "* [Everytown's Gun Violence by the Numbers](https://everytownresearch.org/gun-violence-by-the-numbers/)\n",
    "* [Everytown's Mass Shooting Analysis](https://everytownresearch.org/reports/mass-shootings-analysis/)\n",
    "* [Data analysis for Everytown's mass shooting database](https://github.com/nprapps)\n"
   ]
  },
  {
   "cell_type": "code",
   "execution_count": 373,
   "metadata": {
    "collapsed": true
   },
   "outputs": [],
   "source": [
    "fname='CDC_MassShooting_2009-2016.csv'\n",
    "df_cdc=pd.read_csv(fname)"
   ]
  },
  {
   "cell_type": "code",
   "execution_count": 374,
   "metadata": {
    "collapsed": false
   },
   "outputs": [
    {
     "data": {
      "text/html": [
       "<div>\n",
       "<table border=\"1\" class=\"dataframe\">\n",
       "  <thead>\n",
       "    <tr style=\"text-align: right;\">\n",
       "      <th></th>\n",
       "      <th>count</th>\n",
       "      <th>sum</th>\n",
       "    </tr>\n",
       "    <tr>\n",
       "      <th>School</th>\n",
       "      <th></th>\n",
       "      <th></th>\n",
       "    </tr>\n",
       "  </thead>\n",
       "  <tbody>\n",
       "    <tr>\n",
       "      <th>No</th>\n",
       "      <td>150</td>\n",
       "      <td>783</td>\n",
       "    </tr>\n",
       "    <tr>\n",
       "      <th>Yes</th>\n",
       "      <td>6</td>\n",
       "      <td>65</td>\n",
       "    </tr>\n",
       "  </tbody>\n",
       "</table>\n",
       "</div>"
      ],
      "text/plain": [
       "        count  sum\n",
       "School            \n",
       "No        150  783\n",
       "Yes         6   65"
      ]
     },
     "execution_count": 374,
     "metadata": {},
     "output_type": "execute_result"
    }
   ],
   "source": [
    "df_cdc_school=df_cdc.groupby('School')['Number Killed [CALCULATED]'].agg(['count','sum'])\n",
    "df_cdc_school"
   ]
  },
  {
   "cell_type": "markdown",
   "metadata": {},
   "source": [
    "## cross check between these two datasets\n",
    "\n",
    "* Binghamton,NY 04-03-2009 mass shooting is listed as a 'School' incident, but not in Mother Jones'\n",
    "* Santa Monica 6/7/2013 is missing from MotherJones\n",
    "* The rest are all covered in Mother Jones' report. "
   ]
  },
  {
   "cell_type": "code",
   "execution_count": 375,
   "metadata": {
    "collapsed": false,
    "scrolled": false
   },
   "outputs": [
    {
     "name": "stdout",
     "output_type": "stream",
     "text": [
      "16\n",
      "6\n"
     ]
    }
   ],
   "source": [
    "print(len(df[df['Venue']=='School']))\n",
    "print(len(df_cdc[df_cdc['School']=='Yes']))"
   ]
  },
  {
   "cell_type": "markdown",
   "metadata": {
    "collapsed": false
   },
   "source": [
    "# Combine CDC and MotherJones"
   ]
  },
  {
   "cell_type": "code",
   "execution_count": 376,
   "metadata": {
    "collapsed": false
   },
   "outputs": [
    {
     "data": {
      "text/html": [
       "<div>\n",
       "<table border=\"1\" class=\"dataframe\">\n",
       "  <thead>\n",
       "    <tr style=\"text-align: right;\">\n",
       "      <th></th>\n",
       "      <th>Date</th>\n",
       "      <th>City</th>\n",
       "      <th>State</th>\n",
       "      <th>Listed in FBI SHR (2009-2012)</th>\n",
       "      <th>TOTAL SHOT (Not Including Shooter)</th>\n",
       "      <th>Number Killed [CALCULATED]</th>\n",
       "      <th>Number Injured</th>\n",
       "      <th>Females Killed</th>\n",
       "      <th>Males Killed</th>\n",
       "      <th>Children Killed (17 and Under)</th>\n",
       "      <th>...</th>\n",
       "      <th>School</th>\n",
       "      <th>Workplace</th>\n",
       "      <th>Multiple</th>\n",
       "      <th>Other (Note)</th>\n",
       "      <th>Solely Home But Not DV [CALCULATED]</th>\n",
       "      <th>Red Flag</th>\n",
       "      <th>Subsequent FBI Terrorism Investigation</th>\n",
       "      <th>Public Space</th>\n",
       "      <th>Gun-Free Zone</th>\n",
       "      <th>Took place exclusively in private residence(s)</th>\n",
       "    </tr>\n",
       "  </thead>\n",
       "  <tbody>\n",
       "    <tr>\n",
       "      <th>9</th>\n",
       "      <td>4/3/09</td>\n",
       "      <td>Binghamton</td>\n",
       "      <td>NY</td>\n",
       "      <td>Yes</td>\n",
       "      <td>17</td>\n",
       "      <td>13</td>\n",
       "      <td>4</td>\n",
       "      <td>11</td>\n",
       "      <td>2</td>\n",
       "      <td>0</td>\n",
       "      <td>...</td>\n",
       "      <td>Yes</td>\n",
       "      <td>No</td>\n",
       "      <td>No</td>\n",
       "      <td>NaN</td>\n",
       "      <td>No</td>\n",
       "      <td>No</td>\n",
       "      <td>No</td>\n",
       "      <td>Yes</td>\n",
       "      <td>Yes</td>\n",
       "      <td>no</td>\n",
       "    </tr>\n",
       "    <tr>\n",
       "      <th>65</th>\n",
       "      <td>4/2/12</td>\n",
       "      <td>Oakland</td>\n",
       "      <td>CA</td>\n",
       "      <td>Yes</td>\n",
       "      <td>7</td>\n",
       "      <td>7</td>\n",
       "      <td>0</td>\n",
       "      <td>6</td>\n",
       "      <td>1</td>\n",
       "      <td>0</td>\n",
       "      <td>...</td>\n",
       "      <td>Yes</td>\n",
       "      <td>No</td>\n",
       "      <td>No</td>\n",
       "      <td>NaN</td>\n",
       "      <td>No</td>\n",
       "      <td>No</td>\n",
       "      <td>No</td>\n",
       "      <td>Yes</td>\n",
       "      <td>Yes</td>\n",
       "      <td>no</td>\n",
       "    </tr>\n",
       "    <tr>\n",
       "      <th>79</th>\n",
       "      <td>12/14/12</td>\n",
       "      <td>Newtown</td>\n",
       "      <td>CT</td>\n",
       "      <td>No</td>\n",
       "      <td>29</td>\n",
       "      <td>27</td>\n",
       "      <td>2</td>\n",
       "      <td>19</td>\n",
       "      <td>8</td>\n",
       "      <td>20</td>\n",
       "      <td>...</td>\n",
       "      <td>Yes</td>\n",
       "      <td>No</td>\n",
       "      <td>No</td>\n",
       "      <td>NaN</td>\n",
       "      <td>No</td>\n",
       "      <td>No</td>\n",
       "      <td>No</td>\n",
       "      <td>Yes</td>\n",
       "      <td>Yes</td>\n",
       "      <td>no</td>\n",
       "    </tr>\n",
       "    <tr>\n",
       "      <th>89</th>\n",
       "      <td>6/7/13</td>\n",
       "      <td>Santa Monica</td>\n",
       "      <td>CA</td>\n",
       "      <td>NaN</td>\n",
       "      <td>9</td>\n",
       "      <td>5</td>\n",
       "      <td>4</td>\n",
       "      <td>2</td>\n",
       "      <td>3</td>\n",
       "      <td>0</td>\n",
       "      <td>...</td>\n",
       "      <td>Yes</td>\n",
       "      <td>No</td>\n",
       "      <td>Yes</td>\n",
       "      <td>home, road, school</td>\n",
       "      <td>No</td>\n",
       "      <td>No</td>\n",
       "      <td>No</td>\n",
       "      <td>Yes</td>\n",
       "      <td>Yes</td>\n",
       "      <td>no</td>\n",
       "    </tr>\n",
       "    <tr>\n",
       "      <th>113</th>\n",
       "      <td>10/24/14</td>\n",
       "      <td>Marysville</td>\n",
       "      <td>WA</td>\n",
       "      <td>NaN</td>\n",
       "      <td>5</td>\n",
       "      <td>4</td>\n",
       "      <td>1</td>\n",
       "      <td>3</td>\n",
       "      <td>1</td>\n",
       "      <td>4</td>\n",
       "      <td>...</td>\n",
       "      <td>Yes</td>\n",
       "      <td>No</td>\n",
       "      <td>No</td>\n",
       "      <td>NaN</td>\n",
       "      <td>No</td>\n",
       "      <td>No</td>\n",
       "      <td>No</td>\n",
       "      <td>Yes</td>\n",
       "      <td>Yes</td>\n",
       "      <td>no</td>\n",
       "    </tr>\n",
       "    <tr>\n",
       "      <th>136</th>\n",
       "      <td>10/1/15</td>\n",
       "      <td>Roseberg</td>\n",
       "      <td>OR</td>\n",
       "      <td>NaN</td>\n",
       "      <td>18</td>\n",
       "      <td>9</td>\n",
       "      <td>9</td>\n",
       "      <td>3</td>\n",
       "      <td>6</td>\n",
       "      <td>0</td>\n",
       "      <td>...</td>\n",
       "      <td>Yes</td>\n",
       "      <td>No</td>\n",
       "      <td>No</td>\n",
       "      <td>NaN</td>\n",
       "      <td>No</td>\n",
       "      <td>No</td>\n",
       "      <td>No</td>\n",
       "      <td>Yes</td>\n",
       "      <td>No</td>\n",
       "      <td>no</td>\n",
       "    </tr>\n",
       "  </tbody>\n",
       "</table>\n",
       "<p>6 rows × 49 columns</p>\n",
       "</div>"
      ],
      "text/plain": [
       "         Date          City State Listed in FBI SHR (2009-2012)  \\\n",
       "9      4/3/09    Binghamton    NY                           Yes   \n",
       "65     4/2/12       Oakland    CA                           Yes   \n",
       "79   12/14/12       Newtown    CT                            No   \n",
       "89     6/7/13  Santa Monica    CA                           NaN   \n",
       "113  10/24/14    Marysville    WA                           NaN   \n",
       "136   10/1/15      Roseberg    OR                           NaN   \n",
       "\n",
       "     TOTAL SHOT (Not Including Shooter)  Number Killed [CALCULATED]  \\\n",
       "9                                    17                          13   \n",
       "65                                    7                           7   \n",
       "79                                   29                          27   \n",
       "89                                    9                           5   \n",
       "113                                   5                           4   \n",
       "136                                  18                           9   \n",
       "\n",
       "     Number Injured  Females Killed  Males Killed  \\\n",
       "9                 4              11             2   \n",
       "65                0               6             1   \n",
       "79                2              19             8   \n",
       "89                4               2             3   \n",
       "113               1               3             1   \n",
       "136               9               3             6   \n",
       "\n",
       "     Children Killed (17 and Under)  \\\n",
       "9                                 0   \n",
       "65                                0   \n",
       "79                               20   \n",
       "89                                0   \n",
       "113                               4   \n",
       "136                               0   \n",
       "\n",
       "                         ...                       School  Workplace  \\\n",
       "9                        ...                          Yes         No   \n",
       "65                       ...                          Yes         No   \n",
       "79                       ...                          Yes         No   \n",
       "89                       ...                          Yes         No   \n",
       "113                      ...                          Yes         No   \n",
       "136                      ...                          Yes         No   \n",
       "\n",
       "     Multiple        Other (Note)  Solely Home But Not DV [CALCULATED]  \\\n",
       "9          No                 NaN                                   No   \n",
       "65         No                 NaN                                   No   \n",
       "79         No                 NaN                                   No   \n",
       "89        Yes  home, road, school                                   No   \n",
       "113        No                 NaN                                   No   \n",
       "136        No                 NaN                                   No   \n",
       "\n",
       "    Red Flag Subsequent FBI Terrorism Investigation Public Space  \\\n",
       "9         No                                     No          Yes   \n",
       "65        No                                     No          Yes   \n",
       "79        No                                     No          Yes   \n",
       "89        No                                     No          Yes   \n",
       "113       No                                     No          Yes   \n",
       "136       No                                     No          Yes   \n",
       "\n",
       "    Gun-Free Zone Took place exclusively in private residence(s)  \n",
       "9             Yes                                             no  \n",
       "65            Yes                                             no  \n",
       "79            Yes                                             no  \n",
       "89            Yes                                             no  \n",
       "113           Yes                                             no  \n",
       "136            No                                             no  \n",
       "\n",
       "[6 rows x 49 columns]"
      ]
     },
     "execution_count": 376,
     "metadata": {},
     "output_type": "execute_result"
    }
   ],
   "source": [
    "df_cdc[df_cdc['School']=='Yes']"
   ]
  },
  {
   "cell_type": "code",
   "execution_count": 377,
   "metadata": {
    "collapsed": false
   },
   "outputs": [
    {
     "data": {
      "text/html": [
       "<div>\n",
       "<table border=\"1\" class=\"dataframe\">\n",
       "  <thead>\n",
       "    <tr style=\"text-align: right;\">\n",
       "      <th></th>\n",
       "      <th>count</th>\n",
       "      <th>sum</th>\n",
       "      <th>mean</th>\n",
       "    </tr>\n",
       "    <tr>\n",
       "      <th>School</th>\n",
       "      <th></th>\n",
       "      <th></th>\n",
       "      <th></th>\n",
       "    </tr>\n",
       "  </thead>\n",
       "  <tbody>\n",
       "    <tr>\n",
       "      <th>No</th>\n",
       "      <td>150</td>\n",
       "      <td>783</td>\n",
       "      <td>5.2</td>\n",
       "    </tr>\n",
       "    <tr>\n",
       "      <th>Yes</th>\n",
       "      <td>16</td>\n",
       "      <td>162</td>\n",
       "      <td>10.1</td>\n",
       "    </tr>\n",
       "  </tbody>\n",
       "</table>\n",
       "</div>"
      ],
      "text/plain": [
       "        count  sum  mean\n",
       "School                  \n",
       "No        150  783   5.2\n",
       "Yes        16  162  10.1"
      ]
     },
     "execution_count": 377,
     "metadata": {},
     "output_type": "execute_result"
    }
   ],
   "source": [
    "binary_df = pd.DataFrame(df_cdc_school)\n",
    "binary_df.loc['Yes']=sum_per_venue.iloc[4]  \n",
    "binary_df['mean'] = binary_df['sum']/binary_df['count']\n",
    "\n",
    "binary_df.round(1)"
   ]
  },
  {
   "cell_type": "code",
   "execution_count": 378,
   "metadata": {
    "collapsed": false
   },
   "outputs": [
    {
     "data": {
      "application/vnd.plotly.v1+json": {
       "data": [
        {
         "marker": {
          "color": [
           "rgb(145,191,219)",
           "rgba(222,45,38,0.8)"
          ]
         },
         "orientation": "h",
         "type": "bar",
         "width": [
          0.5,
          0.5
         ],
         "x": [
          5.22,
          10.125
         ],
         "y": [
          "Not School",
          "School"
         ]
        }
       ],
       "layout": {
        "autosize": false,
        "height": 500,
        "title": "Mean # of Fatalities per Incident: School vs. Not School",
        "width": 700
       }
      },
      "text/html": [
       "<div id=\"edeb60bb-7cb7-4a97-ace5-c6de8bdd0aca\" style=\"height: 500px; width: 700px;\" class=\"plotly-graph-div\"></div><script type=\"text/javascript\">require([\"plotly\"], function(Plotly) { window.PLOTLYENV=window.PLOTLYENV || {};window.PLOTLYENV.BASE_URL=\"https://plot.ly\";Plotly.newPlot(\"edeb60bb-7cb7-4a97-ace5-c6de8bdd0aca\", [{\"orientation\": \"h\", \"width\": [0.5, 0.5], \"y\": [\"Not School\", \"School\"], \"x\": [5.22, 10.125], \"type\": \"bar\", \"marker\": {\"color\": [\"rgb(145,191,219)\", \"rgba(222,45,38,0.8)\"]}}], {\"width\": 700, \"autosize\": false, \"height\": 500, \"title\": \"Mean # of Fatalities per Incident: School vs. Not School\"}, {\"linkText\": \"Export to plot.ly\", \"showLink\": true})});</script>"
      ],
      "text/vnd.plotly.v1+html": [
       "<div id=\"edeb60bb-7cb7-4a97-ace5-c6de8bdd0aca\" style=\"height: 500px; width: 700px;\" class=\"plotly-graph-div\"></div><script type=\"text/javascript\">require([\"plotly\"], function(Plotly) { window.PLOTLYENV=window.PLOTLYENV || {};window.PLOTLYENV.BASE_URL=\"https://plot.ly\";Plotly.newPlot(\"edeb60bb-7cb7-4a97-ace5-c6de8bdd0aca\", [{\"orientation\": \"h\", \"width\": [0.5, 0.5], \"y\": [\"Not School\", \"School\"], \"x\": [5.22, 10.125], \"type\": \"bar\", \"marker\": {\"color\": [\"rgb(145,191,219)\", \"rgba(222,45,38,0.8)\"]}}], {\"width\": 700, \"autosize\": false, \"height\": 500, \"title\": \"Mean # of Fatalities per Incident: School vs. Not School\"}, {\"linkText\": \"Export to plot.ly\", \"showLink\": true})});</script>"
      ]
     },
     "metadata": {},
     "output_type": "display_data"
    }
   ],
   "source": [
    "ctable = ['rgb(145,191,219)','rgba(222,45,38,0.8)']\n",
    "width = list(np.full(2,0.5))\n",
    "\n",
    "data = [Bar(y=['Not School','School'],x=binary_df['mean'],orientation='h',marker=dict(color=ctable),width=width)]\n",
    "\n",
    "layout = Layout(autosize=False,width=700,height=500, title='Mean # of Fatalities per Incident: School vs. Not School')\n",
    "         #margin=Margin(l=20,r=20,b=20,t=20,pad=4),\n",
    "         #paper_bgcolor='#7f7f7f',\n",
    "         #plot_bgcolor='#c7c7c7')\n",
    "fig = Figure(data=data,layout=layout)\n",
    "#ply.iplot(fig, filename='mean_fatalities_school_no_school')\n",
    "iplot(fig, filename='mean_fatalities_school_no_school')"
   ]
  },
  {
   "cell_type": "code",
   "execution_count": null,
   "metadata": {
    "collapsed": true
   },
   "outputs": [],
   "source": []
  }
 ],
 "metadata": {
  "kernelspec": {
   "display_name": "Python [default]",
   "language": "python",
   "name": "python2"
  },
  "language_info": {
   "codemirror_mode": {
    "name": "ipython",
    "version": 2
   },
   "file_extension": ".py",
   "mimetype": "text/x-python",
   "name": "python",
   "nbconvert_exporter": "python",
   "pygments_lexer": "ipython2",
   "version": "2.7.13"
  }
 },
 "nbformat": 4,
 "nbformat_minor": 2
}
